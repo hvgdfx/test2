{
 "cells": [
  {
   "cell_type": "markdown",
   "metadata": {},
   "source": [
    "### create Node"
   ]
  },
  {
   "cell_type": "code",
   "execution_count": 1,
   "metadata": {},
   "outputs": [],
   "source": [
    "class Node:\n",
    "    def __init__(self, value=None, left=None, right=None):\n",
    "        self.value = value\n",
    "        self.left = left\n",
    "        self.right = right"
   ]
  },
  {
   "cell_type": "markdown",
   "metadata": {},
   "source": [
    "### traverse tree"
   ]
  },
  {
   "cell_type": "code",
   "execution_count": 2,
   "metadata": {},
   "outputs": [],
   "source": [
    "#递归\n",
    "def preTraverse(note):\n",
    "    if note == None:\n",
    "        return\n",
    "    print(note.value)\n",
    "    preTraverse(note.left)\n",
    "    preTraverse(note.right) \n",
    "\n",
    "def midTraverse(note):\n",
    "    if note == None:\n",
    "        return\n",
    "    midTraverse(note.left)\n",
    "    print(note.value)\n",
    "    midTraverse(note.right)\n",
    "\n",
    "def afterTraverse(note):\n",
    "    if note == None:\n",
    "        return \n",
    "    afterTraverse(note.left)\n",
    "    afterTraverse(note.right)\n",
    "    print(note.value)"
   ]
  },
  {
   "cell_type": "markdown",
   "metadata": {},
   "source": [
    "### 已知前序和中序，求后序"
   ]
  },
  {
   "cell_type": "code",
   "execution_count": 3,
   "metadata": {},
   "outputs": [],
   "source": [
    "preList = list('12473568')\n",
    "midList = list('47215386')\n",
    "afterList1 = []\n",
    "afterList2 = []"
   ]
  },
  {
   "cell_type": "code",
   "execution_count": 11,
   "metadata": {},
   "outputs": [],
   "source": [
    "def findTree1(preList, midList, afterList1):\n",
    "    if len(preList) == 0:\n",
    "        return\n",
    "    if len(preList) == 1:\n",
    "        afterList1.append(preList[0])\n",
    "        return \n",
    "    root = preList[0]\n",
    "    n = midList.index(root)\n",
    "    findTree1(preList[1:n+1], midList[:n], afterList1)\n",
    "    findTree1(preList[n+1:], midList[n+1:], afterList1)\n",
    "    afterList1.append(root)\n",
    "\n",
    "\n",
    "def findTree2(preList, midList, afterList2):\n",
    "    if len(preList) == 0:\n",
    "        return\n",
    "    if len(preList) == 1:\n",
    "        afterList2.append(preList[0])\n",
    "        return\n",
    "    root = preList[0]\n",
    "    n = midList.index(root)\n",
    "    findTree2(preList[1:n + 1], midList[:n], afterList2)\n",
    "    findTree2(preList[n + 1:], midList[n + 1:], afterList2)\n",
    "    afterList2.append(root)\n"
   ]
  },
  {
   "cell_type": "markdown",
   "metadata": {},
   "source": [
    "### 求二叉树深度和宽度"
   ]
  },
  {
   "cell_type": "code",
   "execution_count": 13,
   "metadata": {},
   "outputs": [],
   "source": [
    "def getMaxDepth(tree):\n",
    "    if tree == None:\n",
    "        return 0\n",
    "    l = getMaxDepth(tree.left)\n",
    "    r = getMaxDepth(tree.right)\n",
    "    return max(l, r)+1\n",
    "\n",
    "def getMaxWidth(tree):\n",
    "    if tree == None:\n",
    "        return 0\n",
    "    "
   ]
  },
  {
   "cell_type": "code",
   "execution_count": 14,
   "metadata": {},
   "outputs": [
    {
     "name": "stdout",
     "output_type": "stream",
     "text": [
      "preTraverse:\n",
      "D\n",
      "B\n",
      "A\n",
      "C\n",
      "E\n",
      "G\n",
      "F\n",
      "midTraverse:\n",
      "A\n",
      "B\n",
      "C\n",
      "D\n",
      "E\n",
      "F\n",
      "G\n",
      "afterTraverse:\n",
      "A\n",
      "C\n",
      "B\n",
      "F\n",
      "G\n",
      "E\n",
      "D\n",
      "['7', '4', '2', '5', '8', '6', '3', '1']\n",
      "['7', '4', '2', '5', '8', '6', '3', '1']\n",
      "4\n"
     ]
    }
   ],
   "source": [
    "if __name__ == '__main__':\n",
    "    root=Node('D',Node('B',Node('A'),Node('C')),Node('E',right=Node('G',Node('F'))))\n",
    "    print('preTraverse:')\n",
    "    preTraverse(root)\n",
    "    print('midTraverse:')\n",
    "    midTraverse(root)\n",
    "    print('afterTraverse:')\n",
    "    afterTraverse(root)\n",
    "    preList = list('12473568')\n",
    "    midList = list('47215386')\n",
    "    afterList1 = []\n",
    "    afterList2 = []\n",
    "    findTree1(preList, midList, afterList1)\n",
    "    findTree2(preList, midList, afterList2)\n",
    "    print(afterList1)\n",
    "    print(afterList2)\n",
    "    print(getMaxDepth(root))"
   ]
  },
  {
   "cell_type": "code",
   "execution_count": null,
   "metadata": {},
   "outputs": [],
   "source": []
  },
  {
   "cell_type": "code",
   "execution_count": null,
   "metadata": {},
   "outputs": [],
   "source": []
  },
  {
   "cell_type": "code",
   "execution_count": null,
   "metadata": {},
   "outputs": [],
   "source": []
  }
 ],
 "metadata": {
  "kernelspec": {
   "display_name": "Python 3",
   "language": "python",
   "name": "python3"
  },
  "language_info": {
   "codemirror_mode": {
    "name": "ipython",
    "version": 3
   },
   "file_extension": ".py",
   "mimetype": "text/x-python",
   "name": "python",
   "nbconvert_exporter": "python",
   "pygments_lexer": "ipython3",
   "version": "3.6.7rc2"
  }
 },
 "nbformat": 4,
 "nbformat_minor": 2
}
